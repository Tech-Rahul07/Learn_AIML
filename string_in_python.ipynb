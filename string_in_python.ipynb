{
 "cells": [
  {
   "cell_type": "code",
   "execution_count": 1,
   "id": "3ccaf47d-deef-43ea-984b-927ae248c6a8",
   "metadata": {},
   "outputs": [
    {
     "name": "stdout",
     "output_type": "stream",
     "text": [
      "lets learn string in python\n"
     ]
    }
   ],
   "source": [
    "print(\"lets learn string in python\")"
   ]
  },
  {
   "cell_type": "code",
   "execution_count": 2,
   "id": "31520e6f-aa17-4376-913f-bf5def25c5a3",
   "metadata": {},
   "outputs": [],
   "source": [
    "# how create string in python\n",
    "str = \"this is my string \""
   ]
  },
  {
   "cell_type": "code",
   "execution_count": 3,
   "id": "48864947-b2c2-4b65-82f0-57cb86c69c7a",
   "metadata": {},
   "outputs": [
    {
     "name": "stdout",
     "output_type": "stream",
     "text": [
      "this is my string \n"
     ]
    }
   ],
   "source": [
    "print(str)"
   ]
  },
  {
   "cell_type": "code",
   "execution_count": 4,
   "id": "e9da178b-a843-41eb-8599-25d7d301cda1",
   "metadata": {},
   "outputs": [
    {
     "name": "stdout",
     "output_type": "stream",
     "text": [
      "t\n"
     ]
    }
   ],
   "source": [
    "# how to access index of string\n",
    "print(str[0])"
   ]
  },
  {
   "cell_type": "code",
   "execution_count": 6,
   "id": "a7ad4b38-ae28-46e2-a3d7-bb1e7a2fe121",
   "metadata": {},
   "outputs": [
    {
     "name": "stdout",
     "output_type": "stream",
     "text": [
      "g\n"
     ]
    }
   ],
   "source": [
    "# string negitive index\n",
    "print(str[-2])"
   ]
  },
  {
   "cell_type": "code",
   "execution_count": 7,
   "id": "28f06dc4-4250-448c-a336-ab1d3fbf967e",
   "metadata": {},
   "outputs": [
    {
     "name": "stdout",
     "output_type": "stream",
     "text": [
      "this is\n"
     ]
    }
   ],
   "source": [
    "# slicing of string in python\n",
    "print(str[0:7])"
   ]
  },
  {
   "cell_type": "code",
   "execution_count": null,
   "id": "fe040c2d-adbd-4d82-907b-07f220f4bd76",
   "metadata": {},
   "outputs": [],
   "source": [
    "\n",
    " "
   ]
  }
 ],
 "metadata": {
  "kernelspec": {
   "display_name": "Python 3 (ipykernel)",
   "language": "python",
   "name": "python3"
  },
  "language_info": {
   "codemirror_mode": {
    "name": "ipython",
    "version": 3
   },
   "file_extension": ".py",
   "mimetype": "text/x-python",
   "name": "python",
   "nbconvert_exporter": "python",
   "pygments_lexer": "ipython3",
   "version": "3.12.4"
  }
 },
 "nbformat": 4,
 "nbformat_minor": 5
}
