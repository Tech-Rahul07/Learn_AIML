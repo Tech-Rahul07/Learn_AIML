{
 "cells": [
  {
   "cell_type": "code",
   "execution_count": 3,
   "id": "cf991e8c-7b7e-43fc-947b-7185a9163517",
   "metadata": {},
   "outputs": [
    {
     "name": "stdout",
     "output_type": "stream",
     "text": [
      "['False', 'None', 'True', 'and', 'as', 'assert', 'async', 'await', 'break', 'class', 'continue', 'def', 'del', 'elif', 'else', 'except', 'finally', 'for', 'from', 'global', 'if', 'import', 'in', 'is', 'lambda', 'nonlocal', 'not', 'or', 'pass', 'raise', 'return', 'try', 'while', 'with', 'yield']\n",
      "the total number of keyword is present in python 35\n"
     ]
    }
   ],
   "source": [
    "# get all keywards in python\n",
    "import keyword\n",
    "print(keyword.kwlist)\n",
    "print(\"the total number of keyword is present in python\",len(keyword.kwlist))"
   ]
  },
  {
   "cell_type": "markdown",
   "id": "4542a9d3-58cc-4372-aee6-e05dc3c95a95",
   "metadata": {},
   "source": [
    " comments in python\n",
    " 1-->single line comments\n",
    " 2--> multiline comments\n",
    "\n",
    "\n",
    " single line comments are define by # this is single line comments\n",
    " and multiline comments are define by '''this is multiline comments '''"
   ]
  },
  {
   "cell_type": "markdown",
   "id": "5a7bc473-ce45-406c-9089-d087936cd5bf",
   "metadata": {},
   "source": [
    "python intendation\n",
    "\n",
    "for i in range(10):\n",
    "    print(i)\n",
    "\n",
    "this 4 spaces is called  itendation in python\n",
    "\n",
    "in  python there is single line statement and muliline statement\n",
    "\n",
    "single line statemet eg-->\n",
    "a=10\n",
    "\n",
    "multiline statemenr eg-->\n",
    "\n",
    "a =1+2+3/              \n",
    "    4+5+6/ \n",
    "    7+8+9/\n",
    "    +10\n",
    "    4+5+6/   or\n",
    "    7+8+9/\n",
    "    +10"
   ]
  },
  {
   "cell_type": "code",
   "execution_count": 4,
   "id": "e56722a2-e328-489f-a94e-867e921359aa",
   "metadata": {},
   "outputs": [],
   "source": [
    "# variable in python\n",
    "str = \"string\"\n",
    "a = 10\n",
    "b = 20.34"
   ]
  },
  {
   "cell_type": "code",
   "execution_count": 6,
   "id": "342b82c6-0813-47c7-aadf-8d3ca1094720",
   "metadata": {},
   "outputs": [
    {
     "name": "stdout",
     "output_type": "stream",
     "text": [
      "10 20 30\n"
     ]
    }
   ],
   "source": [
    "# multiple assignment \n",
    "\n",
    "a,b,c = 10,20,30\n",
    "print(a,b,c)"
   ]
  },
  {
   "cell_type": "code",
   "execution_count": 8,
   "id": "a4a1041f-28fa-40bb-a4a2-2b0a44654765",
   "metadata": {},
   "outputs": [
    {
     "name": "stdout",
     "output_type": "stream",
     "text": [
      "2534278342992 2534278342992\n"
     ]
    }
   ],
   "source": [
    "# this point the location or address where 1000 is store\n",
    "x  = 1000\n",
    "y = x\n",
    "print(id(x),id(y))"
   ]
  },
  {
   "cell_type": "code",
   "execution_count": 21,
   "id": "1dbb2c86-26ab-4f9d-a901-485761977af5",
   "metadata": {},
   "outputs": [
    {
     "name": "stdout",
     "output_type": "stream",
     "text": [
      "<class 'int'>\n",
      "<class 'str'>\n",
      "<class 'float'>\n",
      "<class 'complex'>\n"
     ]
    }
   ],
   "source": [
    "# datatypes in python\n",
    "str  = \"string\"\n",
    "a = 10\n",
    "b = 10.90\n",
    "comp = 10+10j\n",
    "\n",
    "\n",
    "print(type(a))\n",
    "print(type(str))\n",
    "print(type(b))\n",
    "print(type(comp))\n",
    "\n"
   ]
  },
  {
   "cell_type": "code",
   "execution_count": 20,
   "id": "80fd2b0d-bd03-4c19-afee-776468a1ed58",
   "metadata": {},
   "outputs": [
    {
     "name": "stdout",
     "output_type": "stream",
     "text": [
      "i am learing ml \n",
      " \n",
      "am l\n"
     ]
    }
   ],
   "source": [
    "# we can do varios opertion on string\n",
    "'''this is commments'''\n",
    "\n",
    "str1 = \"i am learing ml \"\n",
    "print(str1)\n",
    "print(str1[-1])       \n",
    "print(str1[2:6])   \n"
   ]
  },
  {
   "cell_type": "code",
   "execution_count": 22,
   "id": "1a8e7a9d-cd53-4ffd-95ad-c774fbdc6151",
   "metadata": {},
   "outputs": [
    {
     "name": "stdout",
     "output_type": "stream",
     "text": [
      "[10, 20, 20.9, 'Rahul']\n",
      "<class 'list'>\n"
     ]
    }
   ],
   "source": [
    "# list in python\n",
    "lst  = [10,20,20.90,\"Rahul\"]\n",
    "print(lst)\n",
    "print(type(lst))"
   ]
  },
  {
   "cell_type": "code",
   "execution_count": 24,
   "id": "314cfdb1-dad6-49aa-8ebf-386e68b3fddb",
   "metadata": {},
   "outputs": [
    {
     "name": "stdout",
     "output_type": "stream",
     "text": [
      "(10, 29, 'HELLO')\n",
      "<class 'tuple'>\n"
     ]
    }
   ],
   "source": [
    "# tuple in python\n",
    "tup  = (10,29,'HELLO')\n",
    "print(tup)\n",
    "print(type(tup))"
   ]
  },
  {
   "cell_type": "code",
   "execution_count": 25,
   "id": "c1d5e04a-489a-4c53-91e8-16b6fd790b52",
   "metadata": {},
   "outputs": [
    {
     "name": "stdout",
     "output_type": "stream",
     "text": [
      "{80, 20, 70, 40, 10, 30}\n",
      "<class 'set'>\n",
      "6\n"
     ]
    }
   ],
   "source": [
    "# sets in python\n",
    "set = {10,20,30,40,10,80,70}\n",
    "print(set)\n",
    "print(type(set))\n",
    "print(len(set))"
   ]
  },
  {
   "cell_type": "code",
   "execution_count": 26,
   "id": "b799ea8e-4fa9-44bc-a653-c3a08fb82d6f",
   "metadata": {},
   "outputs": [
    {
     "name": "stdout",
     "output_type": "stream",
     "text": [
      "{'name': 'Rahul', 'age': 21, 'degree': 'BCA'}\n",
      "21\n"
     ]
    }
   ],
   "source": [
    "# dict in python\n",
    "dict = {'name' :\"Rahul\",  'age' :21, 'degree' :'BCA'}\n",
    "# There is key value pair like hash map in cpp \n",
    "print(dict)\n",
    "print(dict['age'])"
   ]
  },
  {
   "cell_type": "code",
   "execution_count": 37,
   "id": "35545adc-9519-4e1a-b23a-f6205cefc841",
   "metadata": {},
   "outputs": [
    {
     "name": "stdout",
     "output_type": "stream",
     "text": [
      "10\n",
      "['H', 'e', 'l', 'l', 'o']\n"
     ]
    }
   ],
   "source": [
    "# coonverstion b/t data type in python\n",
    "_a = 10.008\n",
    "print(int(a))\n",
    "\n",
    "a  = 'Hello'\n",
    "print(list(a))"
   ]
  },
  {
   "cell_type": "code",
   "execution_count": 38,
   "id": "844205e5-1cea-4e3c-9d56-f2c9ca8a0f86",
   "metadata": {},
   "outputs": [
    {
     "name": "stdin",
     "output_type": "stream",
     "text": [
      "enter the value of a : 100\n"
     ]
    },
    {
     "name": "stdout",
     "output_type": "stream",
     "text": [
      "the value  of a  is 100\n"
     ]
    }
   ],
   "source": [
    "# input  and output in python\n",
    "\n",
    "a = input(\"enter the value of a :\" )\n",
    "\n",
    "print(\"the value  of a  is {}\".format(a))"
   ]
  },
  {
   "cell_type": "markdown",
   "id": "24a05587-dc32-417e-b4d9-fa3e6146aaf7",
   "metadata": {},
   "source": [
    "# operators in python \n",
    "%-->this is called modulo opertor that return remindor \n",
    "15%2 == 1\n",
    "//-->this is called floor divition its return floor value\n",
    "15//2  == 7\n",
    "\n",
    "**  --> this is called exponrt this is used  to calculate power eg = 2**2 == 4\n",
    "there is also  comparetion opeator and bitwise and logical opertor exist\n",
    "\n",
    "\n",
    "comparetion operter --> == ,!=,>=,<=,>,<,\n",
    "logical operater ---> and,not,or\n",
    "bitwise operter  --> &,|,ect\n",
    "asignment operter - --> =,+=,-=,*=,ect\n",
    "\n",
    "\n",
    "special operter------\n",
    "is--->\n",
    "is not--->\n",
    "\n",
    "eg--\n",
    "a=10\n",
    "b=10\n",
    "print(a is b)\n",
    "\n",
    "\n",
    "membership operter -->\n",
    "in -->\n",
    "list = [10,20,30,40]\n",
    "print(20 in list)\n"
   ]
  },
  {
   "cell_type": "code",
   "execution_count": 42,
   "id": "56814b6a-3b4c-4316-9ea0-d3679b9a966e",
   "metadata": {},
   "outputs": [
    {
     "name": "stdout",
     "output_type": "stream",
     "text": [
      "False\n"
     ]
    }
   ],
   "source": [
    "# is and isnot operter eg\n",
    "a=10\n",
    "b=1\n",
    "print(a is  b)"
   ]
  },
  {
   "cell_type": "code",
   "execution_count": 45,
   "id": "6d0aede8-42a3-495b-b4cd-92c1b5f6adc7",
   "metadata": {},
   "outputs": [
    {
     "name": "stdout",
     "output_type": "stream",
     "text": [
      "True\n"
     ]
    }
   ],
   "source": [
    "# membership operter eg\n",
    "list = [10,20,30,40]\n",
    "print(20 in list)"
   ]
  },
  {
   "cell_type": "code",
   "execution_count": null,
   "id": "bb6bdcd6-462b-471b-a32b-ff4f890cc76b",
   "metadata": {},
   "outputs": [],
   "source": []
  }
 ],
 "metadata": {
  "kernelspec": {
   "display_name": "Python 3 (ipykernel)",
   "language": "python",
   "name": "python3"
  },
  "language_info": {
   "codemirror_mode": {
    "name": "ipython",
    "version": 3
   },
   "file_extension": ".py",
   "mimetype": "text/x-python",
   "name": "python",
   "nbconvert_exporter": "python",
   "pygments_lexer": "ipython3",
   "version": "3.12.4"
  }
 },
 "nbformat": 4,
 "nbformat_minor": 5
}
