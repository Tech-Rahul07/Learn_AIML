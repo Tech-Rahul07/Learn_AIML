{
 "cells": [
  {
   "cell_type": "code",
   "execution_count": null,
   "id": "fb20add7-48c8-41ba-9413-3d11b45da7ec",
   "metadata": {},
   "outputs": [],
   "source": [
    "# condition statement\n",
    "# python if-else statement\n",
    "num = int(input(\"enter the number : \"))\n",
    "if num > 0 :\n",
    "    print(\"this number is positive\")\n",
    "\n",
    "else:\n",
    "    print(\"this number is negitive\")"
   ]
  },
  {
   "cell_type": "code",
   "execution_count": null,
   "id": "d396cfd1-ac7c-4caa-a2df-d9234021536f",
   "metadata": {},
   "outputs": [],
   "source": [
    "# if and else if\n",
    "\n",
    "num = int(input(\"enter the number : \"))\n",
    "if num > 0 :\n",
    "    print(\"this number is positive\")\n",
    "elif num == 0:\n",
    "    print(\"the number is zero\")\n",
    "\n",
    "else:\n",
    "    print(\"this number is negitive\")"
   ]
  },
  {
   "cell_type": "code",
   "execution_count": null,
   "id": "4a2e407e-6f32-4a38-9f2e-a2f663ae6d09",
   "metadata": {},
   "outputs": [],
   "source": [
    "# nested if else\n",
    "num = int(input(\"enter the number : \"))\n",
    "if num > 0 :\n",
    "    if num == 10:\n",
    "        print(\"the number is 10\")\n",
    "    else:\n",
    "        print(\"the number is not 10\")\n",
    "    print(\"this number is positive\")\n",
    "\n",
    "else:\n",
    "    print(\"this number is negitive\")"
   ]
  },
  {
   "cell_type": "code",
   "execution_count": null,
   "id": "da8ad182-67b7-475f-967d-3a52602f1299",
   "metadata": {},
   "outputs": [],
   "source": [
    "# loops in python\n",
    "# while loop\n",
    "list = [10,50]\n",
    "product = 1\n",
    "index = 0\n",
    "while index <len(list):\n",
    "    product*=list[index]\n",
    "    index+=1\n",
    "print(\"the product is : {}\".format(product))"
   ]
  },
  {
   "cell_type": "code",
   "execution_count": 3,
   "id": "7a99a3cf-a734-4937-9615-507d07cf8796",
   "metadata": {},
   "outputs": [
    {
     "name": "stdin",
     "output_type": "stream",
     "text": [
      "enter the number :  4\n"
     ]
    },
    {
     "name": "stdout",
     "output_type": "stream",
     "text": [
      "the number is not prime \n"
     ]
    }
   ],
   "source": [
    "# prime number\n",
    "num = int(input(\"enter the number : \"))\n",
    "i = 2\n",
    "while i < num:\n",
    "    if num % i == 0 :\n",
    "        print(\"the number is not prime \")\n",
    "        break\n",
    "    else:\n",
    "        print(\"prime number\")\n",
    "    i+=1\n"
   ]
  },
  {
   "cell_type": "code",
   "execution_count": 5,
   "id": "f0f5d5fb-a80d-4265-9245-b50627e21395",
   "metadata": {},
   "outputs": [
    {
     "name": "stdout",
     "output_type": "stream",
     "text": [
      "a\n",
      "b\n",
      "c\n",
      "d\n"
     ]
    }
   ],
   "source": [
    "# for loop\n",
    "list = ['a','b','c','d']\n",
    "for val in list:\n",
    "    print(val)"
   ]
  },
  {
   "cell_type": "code",
   "execution_count": 7,
   "id": "30493245-290f-4c5a-85dc-3245a89704c3",
   "metadata": {},
   "outputs": [
    {
     "name": "stdout",
     "output_type": "stream",
     "text": [
      "0\n",
      "3\n",
      "6\n",
      "9\n"
     ]
    }
   ],
   "source": [
    "# range function\n",
    "for val in range(0,10,3):\n",
    "    print(val)"
   ]
  },
  {
   "cell_type": "code",
   "execution_count": 9,
   "id": "fd8e782f-9628-45e2-a2d7-368656b23997",
   "metadata": {},
   "outputs": [
    {
     "name": "stdin",
     "output_type": "stream",
     "text": [
      "enter the first index_1 :  2\n",
      "enter the first index_2 :  10\n"
     ]
    },
    {
     "name": "stdout",
     "output_type": "stream",
     "text": [
      "3\n",
      "5\n",
      "5\n",
      "5\n",
      "7\n",
      "7\n",
      "7\n",
      "7\n",
      "7\n",
      "9\n"
     ]
    }
   ],
   "source": [
    "# print prime number with in range\n",
    "index_1 = int(input(\"enter the first index_1 : \"))\n",
    "index_2 = int(input(\"enter the first index_2 : \"))\n",
    "for element in range(index_1,index_2):\n",
    "    for val in range(2,element):\n",
    "        if element%val ==0 :\n",
    "            break\n",
    "        else:\n",
    "            print(element)\n",
    "            "
   ]
  },
  {
   "cell_type": "raw",
   "id": "16636fed-d586-4e67-a6cb-03b4c8baa051",
   "metadata": {},
   "source": [
    "# list  in details\n",
    "'''its is one type of sequence data structure '''\n",
    "'''its has index'''\n",
    "'''list  are mutable --> the value can be change'''\n",
    "\n"
   ]
  },
  {
   "cell_type": "code",
   "execution_count": 11,
   "id": "405ed239-eb7b-4be8-bdac-3095538d90dd",
   "metadata": {},
   "outputs": [],
   "source": [
    "# list \n",
    "# 1 empty list\n",
    "lst1 = []\n",
    "\n",
    "# 2list of int val\n",
    "lst2 = [1,2,3,4]\n",
    "\n",
    "# 3 list of string\n",
    "\n",
    "lst3 = ['one','two','three']\n",
    "\n",
    "# 4 list of list\n",
    "lst4 = [[1,2],[3,4]]\n",
    "\n",
    "# 5 list of combination of int string float\n",
    "lst5 = ['rahul',1,2,1,2,7.999]\n",
    "\n",
    "\n"
   ]
  },
  {
   "cell_type": "code",
   "execution_count": 14,
   "id": "1469c417-b994-4b2e-b9c7-8bc9b6db3ff4",
   "metadata": {},
   "outputs": [
    {
     "name": "stdout",
     "output_type": "stream",
     "text": [
      "['rahul', 1, 2, 1, 2, 7.999]\n"
     ]
    }
   ],
   "source": [
    "print(lst5)"
   ]
  },
  {
   "cell_type": "code",
   "execution_count": 26,
   "id": "cd9bdcff-4fb8-4d78-b666-590004a34575",
   "metadata": {},
   "outputs": [
    {
     "name": "stdout",
     "output_type": "stream",
     "text": [
      "26\n"
     ]
    }
   ],
   "source": [
    "# some function that use in list\n",
    "# len-->this funtion is determine the length of list\n",
    "print(len(lst3))\n",
    "\n",
    "# # .append ---> this fun add value at the end of list\n",
    "# lst3.append(\"four\")\n",
    "# print(lst3)\n",
    "\n",
    "# # .insert -->this fun add  value at any inde index\n",
    "# lst3.insert(0,'zero')\n",
    "# print(lst3)\n",
    "\n",
    "# # .remove --->this fun remove  value from list\n",
    "# lst3.remove('zero')\n",
    "# print(lst3)\n",
    "\n",
    "# # append and extend \n",
    "# lst3.append(lst2)\n",
    "# print(lst3)\n",
    "\n",
    "# lst3.extend(lst2)\n",
    "\n"
   ]
  },
  {
   "cell_type": "code",
   "execution_count": 29,
   "id": "34cac14f-920b-489c-9d00-1239db3d6ce3",
   "metadata": {},
   "outputs": [
    {
     "data": {
      "text/plain": [
       "[1, 2, 5]"
      ]
     },
     "execution_count": 29,
     "metadata": {},
     "output_type": "execute_result"
    }
   ],
   "source": [
    "# list delete\n",
    "list = [1,2,3,4,5]\n",
    "del list[2]\n",
    "list\n",
    "# here 3 is delete\n",
    "# or pop here 2th index element is pop or del\n",
    "list.pop(2)\n",
    "list"
   ]
  },
  {
   "cell_type": "code",
   "execution_count": 30,
   "id": "91f147bb-f731-4e0c-9784-94fe650b225a",
   "metadata": {},
   "outputs": [
    {
     "name": "stdout",
     "output_type": "stream",
     "text": [
      "1\n",
      "2\n",
      "3\n",
      "4\n",
      "5\n",
      "6\n",
      "7\n",
      "8\n"
     ]
    }
   ],
   "source": [
    "# now see how to iterate over list by in  keyword\n",
    "list = [1,2,3,4,5,6,7,8]\n",
    "for val in list:\n",
    "    print(val)\n",
    "    "
   ]
  },
  {
   "cell_type": "code",
   "execution_count": 36,
   "id": "b124be57-c237-4ecc-b4ba-1cd443e0a139",
   "metadata": {},
   "outputs": [
    {
     "name": "stdout",
     "output_type": "stream",
     "text": [
      "[1, 2, 3, 4, 5, 6, 7, 8]\n"
     ]
    },
    {
     "data": {
      "text/plain": [
       "[8, 7, 6, 5, 4, 3, 2, 1]"
      ]
     },
     "execution_count": 36,
     "metadata": {},
     "output_type": "execute_result"
    }
   ],
   "source": [
    "# reverse the list \n",
    "list.reverse()\n",
    "print(list)\n",
    "\n",
    "#sort\n",
    "list.sort(reverse  = 'true')\n",
    "list"
   ]
  },
  {
   "cell_type": "code",
   "execution_count": 37,
   "id": "1c72f5bb-e774-435e-ad05-fc54f5081887",
   "metadata": {},
   "outputs": [
    {
     "name": "stdout",
     "output_type": "stream",
     "text": [
      "['one ', 'two', 'three', 'four']\n"
     ]
    }
   ],
   "source": [
    "# string split to create a list\n",
    "s = 'one ,two,three,four'\n",
    "lst = s.split(',')\n",
    "print(lst)"
   ]
  },
  {
   "cell_type": "code",
   "execution_count": 38,
   "id": "ba8cc45c-446e-4a62-b8b0-70b9f56ff7f4",
   "metadata": {},
   "outputs": [
    {
     "name": "stdout",
     "output_type": "stream",
     "text": [
      "5\n",
      "[2, 3]\n"
     ]
    }
   ],
   "source": [
    "# index of list\n",
    "list =[1,2,3,4,5]\n",
    "print(list[-1])\n",
    "print(list[1:3])"
   ]
  },
  {
   "cell_type": "code",
   "execution_count": 41,
   "id": "596e8284-9229-419d-be40-6ab7ad0c3311",
   "metadata": {},
   "outputs": [
    {
     "name": "stdout",
     "output_type": "stream",
     "text": [
      "[1, 2, 3, 4, 'a', 'b', 'c', 'd']\n"
     ]
    }
   ],
   "source": [
    "# concatination of list\n",
    "list1  = [1,2,3,4]\n",
    "list2 = ['a','b','c','d']\n",
    "\n",
    "lst = list1+list2\n",
    "\n",
    "print(lst)\n",
    "\n"
   ]
  },
  {
   "cell_type": "code",
   "execution_count": null,
   "id": "ea007c04-5bb0-427d-b341-0fed27bc7bc1",
   "metadata": {},
   "outputs": [],
   "source": []
  },
  {
   "cell_type": "code",
   "execution_count": null,
   "id": "2a1ecf03-4756-4d2b-b824-6c072a387bbb",
   "metadata": {},
   "outputs": [],
   "source": []
  },
  {
   "cell_type": "code",
   "execution_count": null,
   "id": "014ad1af-fdf3-4cec-ab75-8d7fe0d40f63",
   "metadata": {},
   "outputs": [],
   "source": []
  },
  {
   "cell_type": "code",
   "execution_count": null,
   "id": "62467f13-b947-4ccb-b402-8106ad56bc1d",
   "metadata": {},
   "outputs": [],
   "source": []
  },
  {
   "cell_type": "code",
   "execution_count": null,
   "id": "e691b0d6-3159-4f28-9596-0a1ccc1167aa",
   "metadata": {},
   "outputs": [],
   "source": []
  }
 ],
 "metadata": {
  "kernelspec": {
   "display_name": "Python 3 (ipykernel)",
   "language": "python",
   "name": "python3"
  },
  "language_info": {
   "codemirror_mode": {
    "name": "ipython",
    "version": 3
   },
   "file_extension": ".py",
   "mimetype": "text/x-python",
   "name": "python",
   "nbconvert_exporter": "python",
   "pygments_lexer": "ipython3",
   "version": "3.12.4"
  }
 },
 "nbformat": 4,
 "nbformat_minor": 5
}
