{
 "cells": [
  {
   "cell_type": "code",
   "execution_count": 4,
   "id": "b324bbcc-a99a-4c5e-bee1-d8235783aaa8",
   "metadata": {},
   "outputs": [
    {
     "name": "stdout",
     "output_type": "stream",
     "text": [
      "20\n",
      "20\n"
     ]
    }
   ],
   "source": [
    "# Anonymous or lambda function in python\n",
    "def double(x):\n",
    "    return x*2\n",
    "print(double(10))    \n",
    " \n",
    "\n",
    "# in upper code is rewrite by lambda function like this\n",
    "bouble  =  lambda x: x*2\n",
    "print(bouble(10))\n"
   ]
  },
  {
   "cell_type": "code",
   "execution_count": null,
   "id": "5433f541-66ad-4070-88dd-5df998a5b2c0",
   "metadata": {},
   "outputs": [],
   "source": []
  },
  {
   "cell_type": "code",
   "execution_count": null,
   "id": "50bc0298-4e0a-43bf-8749-c45cab69e057",
   "metadata": {},
   "outputs": [],
   "source": []
  },
  {
   "cell_type": "code",
   "execution_count": null,
   "id": "5ac8b8a7-e06b-4e9c-8c1c-39f926d8545d",
   "metadata": {},
   "outputs": [],
   "source": []
  },
  {
   "cell_type": "code",
   "execution_count": null,
   "id": "f2eb8acb-b95c-432a-ae15-959dec526e3b",
   "metadata": {},
   "outputs": [],
   "source": []
  },
  {
   "cell_type": "code",
   "execution_count": null,
   "id": "2a71c985-2838-46f1-9629-c6c7b88f5f31",
   "metadata": {},
   "outputs": [],
   "source": []
  },
  {
   "cell_type": "code",
   "execution_count": null,
   "id": "2360a559-63e8-42e7-b4e7-b13e40a30a0c",
   "metadata": {},
   "outputs": [],
   "source": []
  },
  {
   "cell_type": "code",
   "execution_count": null,
   "id": "efd2c037-cc82-47bd-ba87-a1c53d49a3ed",
   "metadata": {},
   "outputs": [],
   "source": []
  },
  {
   "cell_type": "code",
   "execution_count": null,
   "id": "1e3e1421-0e98-47f4-9f61-1dd7fdc4b3ee",
   "metadata": {},
   "outputs": [],
   "source": []
  },
  {
   "cell_type": "code",
   "execution_count": null,
   "id": "37501e25-42ad-447e-a894-22a3518eba35",
   "metadata": {},
   "outputs": [],
   "source": []
  },
  {
   "cell_type": "code",
   "execution_count": null,
   "id": "c9060b48-c7ce-488e-b3b2-32aad60d7f3a",
   "metadata": {},
   "outputs": [],
   "source": []
  },
  {
   "cell_type": "code",
   "execution_count": null,
   "id": "60a838a1-a27e-4343-9bec-79cd54f475e5",
   "metadata": {},
   "outputs": [],
   "source": []
  },
  {
   "cell_type": "code",
   "execution_count": null,
   "id": "1d69e71c-23d3-4afc-b4d4-774a86deda79",
   "metadata": {},
   "outputs": [],
   "source": []
  },
  {
   "cell_type": "code",
   "execution_count": 40,
   "id": "cbe46a9c-3de1-4e5a-a577-3401ed03d012",
   "metadata": {},
   "outputs": [
    {
     "name": "stdout",
     "output_type": "stream",
     "text": [
      "(2, 4)\n",
      "(2, 4, 6, 8, 10)\n",
      "<function <lambda> at 0x0000025A1682B1A0>\n"
     ]
    }
   ],
   "source": [
    "# we can use with map filter and reduce fuctions\n",
    "# filter\n",
    "lst = [1 ,2 ,3,4,5]\n",
    "even_lst = tuple(filter(lambda  x:(x%2==0),lst))\n",
    "print(even_lst)\n",
    "\n",
    "\n",
    "# map\n",
    "lst = [1 ,2 ,3,4,5]\n",
    "new_lst = tuple(map(lambda  x: x*2,lst))\n",
    "print(new_lst)\n",
    "\n",
    "# reduce\n",
    "'''\n",
    "lst = [1 ,2 ,3,4,5]\n",
    "new =reduce(lambda x,y:  x*y,lst)\n",
    "print(new)\n",
    "'''\n"
   ]
  },
  {
   "cell_type": "code",
   "execution_count": null,
   "id": "37fc3814-67ad-4ca6-8f33-122a0832e992",
   "metadata": {},
   "outputs": [],
   "source": []
  }
 ],
 "metadata": {
  "kernelspec": {
   "display_name": "Python 3 (ipykernel)",
   "language": "python",
   "name": "python3"
  },
  "language_info": {
   "codemirror_mode": {
    "name": "ipython",
    "version": 3
   },
   "file_extension": ".py",
   "mimetype": "text/x-python",
   "name": "python",
   "nbconvert_exporter": "python",
   "pygments_lexer": "ipython3",
   "version": "3.12.4"
  }
 },
 "nbformat": 4,
 "nbformat_minor": 5
}
